{
 "cells": [
  {
   "cell_type": "code",
   "execution_count": 1,
   "id": "0aa48fb8-eddb-426f-85a3-0c9f2b55c99a",
   "metadata": {},
   "outputs": [],
   "source": [
    "import numpy as np\n",
    "import  pandas as pd"
   ]
  },
  {
   "cell_type": "code",
   "execution_count": 7,
   "id": "0b0d4bbf-f85e-4a81-8612-b488a09cdf4f",
   "metadata": {},
   "outputs": [
    {
     "data": {
      "text/html": [
       "<div>\n",
       "<style scoped>\n",
       "    .dataframe tbody tr th:only-of-type {\n",
       "        vertical-align: middle;\n",
       "    }\n",
       "\n",
       "    .dataframe tbody tr th {\n",
       "        vertical-align: top;\n",
       "    }\n",
       "\n",
       "    .dataframe thead th {\n",
       "        text-align: right;\n",
       "    }\n",
       "</style>\n",
       "<table border=\"1\" class=\"dataframe\">\n",
       "  <thead>\n",
       "    <tr style=\"text-align: right;\">\n",
       "      <th></th>\n",
       "      <th>Job.ID</th>\n",
       "      <th>Provider</th>\n",
       "      <th>Status</th>\n",
       "      <th>Slug</th>\n",
       "      <th>Title</th>\n",
       "      <th>Position</th>\n",
       "      <th>Company</th>\n",
       "      <th>City</th>\n",
       "      <th>State.Name</th>\n",
       "      <th>State.Code</th>\n",
       "      <th>...</th>\n",
       "      <th>Industry</th>\n",
       "      <th>Job.Description</th>\n",
       "      <th>Requirements</th>\n",
       "      <th>Salary</th>\n",
       "      <th>Listing.Start</th>\n",
       "      <th>Listing.End</th>\n",
       "      <th>Employment.Type</th>\n",
       "      <th>Education.Required</th>\n",
       "      <th>Created.At</th>\n",
       "      <th>Updated.At</th>\n",
       "    </tr>\n",
       "  </thead>\n",
       "  <tbody>\n",
       "    <tr>\n",
       "      <th>0</th>\n",
       "      <td>111</td>\n",
       "      <td>1</td>\n",
       "      <td>open</td>\n",
       "      <td>palo-alto-ca-tacolicious-server</td>\n",
       "      <td>Server @ Tacolicious</td>\n",
       "      <td>Server</td>\n",
       "      <td>Tacolicious</td>\n",
       "      <td>Palo Alto</td>\n",
       "      <td>California</td>\n",
       "      <td>CA</td>\n",
       "      <td>...</td>\n",
       "      <td>Food and Beverages</td>\n",
       "      <td>Tacolicious' first Palo Alto store just opened...</td>\n",
       "      <td>NaN</td>\n",
       "      <td>8.0</td>\n",
       "      <td>NaN</td>\n",
       "      <td>NaN</td>\n",
       "      <td>Part-Time</td>\n",
       "      <td>NaN</td>\n",
       "      <td>2013-03-12 02:08:28 UTC</td>\n",
       "      <td>2014-08-16 15:35:36 UTC</td>\n",
       "    </tr>\n",
       "    <tr>\n",
       "      <th>1</th>\n",
       "      <td>113</td>\n",
       "      <td>1</td>\n",
       "      <td>open</td>\n",
       "      <td>san-francisco-ca-claude-lane-kitchen-staff-chef</td>\n",
       "      <td>Kitchen Staff/Chef @ Claude Lane</td>\n",
       "      <td>Kitchen Staff/Chef</td>\n",
       "      <td>Claude Lane</td>\n",
       "      <td>San Francisco</td>\n",
       "      <td>California</td>\n",
       "      <td>CA</td>\n",
       "      <td>...</td>\n",
       "      <td>Food and Beverages</td>\n",
       "      <td>\\r\\n\\r\\nNew French Brasserie in S.F. Financia...</td>\n",
       "      <td>NaN</td>\n",
       "      <td>0.0</td>\n",
       "      <td>NaN</td>\n",
       "      <td>NaN</td>\n",
       "      <td>Part-Time</td>\n",
       "      <td>NaN</td>\n",
       "      <td>2013-04-12 08:36:36 UTC</td>\n",
       "      <td>2014-08-16 15:35:36 UTC</td>\n",
       "    </tr>\n",
       "    <tr>\n",
       "      <th>2</th>\n",
       "      <td>117</td>\n",
       "      <td>1</td>\n",
       "      <td>open</td>\n",
       "      <td>san-francisco-ca-machka-restaurants-corp-barte...</td>\n",
       "      <td>Bartender @ Machka Restaurants Corp.</td>\n",
       "      <td>Bartender</td>\n",
       "      <td>Machka Restaurants Corp.</td>\n",
       "      <td>San Francisco</td>\n",
       "      <td>California</td>\n",
       "      <td>CA</td>\n",
       "      <td>...</td>\n",
       "      <td>Food and Beverages</td>\n",
       "      <td>We are a popular Mediterranean wine bar and re...</td>\n",
       "      <td>NaN</td>\n",
       "      <td>11.0</td>\n",
       "      <td>NaN</td>\n",
       "      <td>NaN</td>\n",
       "      <td>Part-Time</td>\n",
       "      <td>NaN</td>\n",
       "      <td>2013-07-16 09:34:10 UTC</td>\n",
       "      <td>2014-08-16 15:35:37 UTC</td>\n",
       "    </tr>\n",
       "  </tbody>\n",
       "</table>\n",
       "<p>3 rows × 23 columns</p>\n",
       "</div>"
      ],
      "text/plain": [
       "   Job.ID  Provider Status                                               Slug  \\\n",
       "0     111         1   open                    palo-alto-ca-tacolicious-server   \n",
       "1     113         1   open    san-francisco-ca-claude-lane-kitchen-staff-chef   \n",
       "2     117         1   open  san-francisco-ca-machka-restaurants-corp-barte...   \n",
       "\n",
       "                                  Title            Position  \\\n",
       "0                  Server @ Tacolicious              Server   \n",
       "1      Kitchen Staff/Chef @ Claude Lane  Kitchen Staff/Chef   \n",
       "2  Bartender @ Machka Restaurants Corp.           Bartender   \n",
       "\n",
       "                    Company           City  State.Name State.Code  ...  \\\n",
       "0               Tacolicious      Palo Alto  California         CA  ...   \n",
       "1               Claude Lane  San Francisco  California         CA  ...   \n",
       "2  Machka Restaurants Corp.  San Francisco  California         CA  ...   \n",
       "\n",
       "             Industry                                    Job.Description  \\\n",
       "0  Food and Beverages  Tacolicious' first Palo Alto store just opened...   \n",
       "1  Food and Beverages   \\r\\n\\r\\nNew French Brasserie in S.F. Financia...   \n",
       "2  Food and Beverages  We are a popular Mediterranean wine bar and re...   \n",
       "\n",
       "   Requirements Salary Listing.Start  Listing.End  Employment.Type  \\\n",
       "0           NaN    8.0           NaN          NaN        Part-Time   \n",
       "1           NaN    0.0           NaN          NaN        Part-Time   \n",
       "2           NaN   11.0           NaN          NaN        Part-Time   \n",
       "\n",
       "  Education.Required               Created.At               Updated.At  \n",
       "0                NaN  2013-03-12 02:08:28 UTC  2014-08-16 15:35:36 UTC  \n",
       "1                NaN  2013-04-12 08:36:36 UTC  2014-08-16 15:35:36 UTC  \n",
       "2                NaN  2013-07-16 09:34:10 UTC  2014-08-16 15:35:37 UTC  \n",
       "\n",
       "[3 rows x 23 columns]"
      ]
     },
     "execution_count": 7,
     "metadata": {},
     "output_type": "execute_result"
    }
   ],
   "source": [
    "df=pd.read_csv('job-analysis.csv')\n",
    "df.head(3)"
   ]
  },
  {
   "cell_type": "code",
   "execution_count": 12,
   "id": "db41440f-3eb7-4bcd-9707-e036bc9b564e",
   "metadata": {},
   "outputs": [
    {
     "name": "stdout",
     "output_type": "stream",
     "text": [
      "<class 'pandas.core.frame.DataFrame'>\n",
      "RangeIndex: 84090 entries, 0 to 84089\n",
      "Data columns (total 23 columns):\n",
      " #   Column              Non-Null Count  Dtype  \n",
      "---  ------              --------------  -----  \n",
      " 0   Job.ID              84090 non-null  int64  \n",
      " 1   Provider            84090 non-null  int64  \n",
      " 2   Status              84090 non-null  object \n",
      " 3   Slug                84090 non-null  object \n",
      " 4   Title               84090 non-null  object \n",
      " 5   Position            84090 non-null  object \n",
      " 6   Company             81819 non-null  object \n",
      " 7   City                83955 non-null  object \n",
      " 8   State.Name          83919 non-null  object \n",
      " 9   State.Code          83919 non-null  object \n",
      " 10  Address             36 non-null     object \n",
      " 11  Latitude            84090 non-null  float64\n",
      " 12  Longitude           84090 non-null  float64\n",
      " 13  Industry            267 non-null    object \n",
      " 14  Job.Description     84034 non-null  object \n",
      " 15  Requirements        0 non-null      float64\n",
      " 16  Salary              229 non-null    float64\n",
      " 17  Listing.Start       83407 non-null  object \n",
      " 18  Listing.End         83923 non-null  object \n",
      " 19  Employment.Type     84080 non-null  object \n",
      " 20  Education.Required  83823 non-null  object \n",
      " 21  Created.At          84090 non-null  object \n",
      " 22  Updated.At          84090 non-null  object \n",
      "dtypes: float64(4), int64(2), object(17)\n",
      "memory usage: 14.8+ MB\n"
     ]
    }
   ],
   "source": [
    "df.info()"
   ]
  },
  {
   "cell_type": "code",
   "execution_count": 16,
   "id": "10a38d86-4af9-4c6e-b758-241e81617856",
   "metadata": {},
   "outputs": [],
   "source": [
    "df= df[['Title','Job.Description']]"
   ]
  },
  {
   "cell_type": "code",
   "execution_count": 18,
   "id": "d334cce2-a9d0-4959-b41b-292b87abc208",
   "metadata": {},
   "outputs": [
    {
     "data": {
      "text/html": [
       "<div>\n",
       "<style scoped>\n",
       "    .dataframe tbody tr th:only-of-type {\n",
       "        vertical-align: middle;\n",
       "    }\n",
       "\n",
       "    .dataframe tbody tr th {\n",
       "        vertical-align: top;\n",
       "    }\n",
       "\n",
       "    .dataframe thead th {\n",
       "        text-align: right;\n",
       "    }\n",
       "</style>\n",
       "<table border=\"1\" class=\"dataframe\">\n",
       "  <thead>\n",
       "    <tr style=\"text-align: right;\">\n",
       "      <th></th>\n",
       "      <th>Title</th>\n",
       "      <th>Job.Description</th>\n",
       "    </tr>\n",
       "  </thead>\n",
       "  <tbody>\n",
       "    <tr>\n",
       "      <th>0</th>\n",
       "      <td>Server @ Tacolicious</td>\n",
       "      <td>Tacolicious' first Palo Alto store just opened...</td>\n",
       "    </tr>\n",
       "    <tr>\n",
       "      <th>1</th>\n",
       "      <td>Kitchen Staff/Chef @ Claude Lane</td>\n",
       "      <td>\\r\\n\\r\\nNew French Brasserie in S.F. Financia...</td>\n",
       "    </tr>\n",
       "    <tr>\n",
       "      <th>2</th>\n",
       "      <td>Bartender @ Machka Restaurants Corp.</td>\n",
       "      <td>We are a popular Mediterranean wine bar and re...</td>\n",
       "    </tr>\n",
       "  </tbody>\n",
       "</table>\n",
       "</div>"
      ],
      "text/plain": [
       "                                  Title  \\\n",
       "0                  Server @ Tacolicious   \n",
       "1      Kitchen Staff/Chef @ Claude Lane   \n",
       "2  Bartender @ Machka Restaurants Corp.   \n",
       "\n",
       "                                     Job.Description  \n",
       "0  Tacolicious' first Palo Alto store just opened...  \n",
       "1   \\r\\n\\r\\nNew French Brasserie in S.F. Financia...  \n",
       "2  We are a popular Mediterranean wine bar and re...  "
      ]
     },
     "execution_count": 18,
     "metadata": {},
     "output_type": "execute_result"
    }
   ],
   "source": [
    "df.head(3)"
   ]
  },
  {
   "cell_type": "code",
   "execution_count": 28,
   "id": "6ac795f9-498d-4276-bd32-e6e8162ace7d",
   "metadata": {},
   "outputs": [
    {
     "data": {
      "text/plain": [
       "0                                     Server @ Tacolicious\n",
       "1                         Kitchen Staff/Chef @ Claude Lane\n",
       "2                     Bartender @ Machka Restaurants Corp.\n",
       "3                                  Server @ Teriyaki House\n",
       "4              Kitchen Staff/Chef @ Rosa Mexicano - Sunset\n",
       "                               ...                        \n",
       "84085    Book Keeper @ National Japanese American Histo...\n",
       "84086                   Kitchen Staff/Chef @ Emporio Rulli\n",
       "84087                                    Driver @ Onigilly\n",
       "84088                 Line Cook @ Machka Restaurants Corp.\n",
       "84089                           Cashier @ Kazoo Restaurant\n",
       "Name: Title, Length: 84090, dtype: object"
      ]
     },
     "execution_count": 28,
     "metadata": {},
     "output_type": "execute_result"
    }
   ],
   "source": [
    "df['Title']"
   ]
  },
  {
   "cell_type": "code",
   "execution_count": 24,
   "id": "461b090c-a0df-4409-856a-ac913f1baee3",
   "metadata": {},
   "outputs": [
    {
     "data": {
      "text/plain": [
       "' \\r\\n\\r\\nNew French Brasserie in S.F. Financial District Seeks Chef\\r\\nWe are seeking an energetic, dynamic chef to take charge and grow with our company. Our ideal candidate is a motivated self-starter, has a great work ethic and is ready for the challenge of building their own team with executive support. \\r\\n\\r\\nThis position is a perfect fit for a talented chef ready to take the next step, someone who can multi task in a high volume kitchen and has exceptional organizational skills. Position requirements are experience with French cuisine, a minimum of 5 years as a sous chef in high volume, full service restaurant. He or she must be a team player, leading by example and working side by side with other members of the team. \\r\\n\\r\\nComputer and management skills are a must, as are experience in ordering, inventory and cost control. The right candidate will have previously demonstrated an understanding of leadership and accountability, and an infectious, energetic approach to problem solving and facing challenges. \\r\\n\\r\\nWe are an equal opportunity employer. Qualified applicants are considered for employment without regard to age, race, religion, sex, national origin, sexual orientation, disability, or veteran status. \\r\\n'"
      ]
     },
     "execution_count": 24,
     "metadata": {},
     "output_type": "execute_result"
    }
   ],
   "source": [
    "df['Job.Description']"
   ]
  },
  {
   "cell_type": "code",
   "execution_count": 30,
   "id": "f34e4cfe-f0c7-4bd5-8341-83f122673279",
   "metadata": {},
   "outputs": [
    {
     "data": {
      "text/plain": [
       "'Kitchen Staff/Chef @ Claude Lane'"
      ]
     },
     "execution_count": 30,
     "metadata": {},
     "output_type": "execute_result"
    }
   ],
   "source": [
    "df['Title'][1]"
   ]
  },
  {
   "cell_type": "code",
   "execution_count": 32,
   "id": "448eedf2-8c3e-43f9-92f1-7dcf38824c4e",
   "metadata": {},
   "outputs": [
    {
     "data": {
      "text/plain": [
       "' \\r\\n\\r\\nNew French Brasserie in S.F. Financial District Seeks Chef\\r\\nWe are seeking an energetic, dynamic chef to take charge and grow with our company. Our ideal candidate is a motivated self-starter, has a great work ethic and is ready for the challenge of building their own team with executive support. \\r\\n\\r\\nThis position is a perfect fit for a talented chef ready to take the next step, someone who can multi task in a high volume kitchen and has exceptional organizational skills. Position requirements are experience with French cuisine, a minimum of 5 years as a sous chef in high volume, full service restaurant. He or she must be a team player, leading by example and working side by side with other members of the team. \\r\\n\\r\\nComputer and management skills are a must, as are experience in ordering, inventory and cost control. The right candidate will have previously demonstrated an understanding of leadership and accountability, and an infectious, energetic approach to problem solving and facing challenges. \\r\\n\\r\\nWe are an equal opportunity employer. Qualified applicants are considered for employment without regard to age, race, religion, sex, national origin, sexual orientation, disability, or veteran status. \\r\\n'"
      ]
     },
     "execution_count": 32,
     "metadata": {},
     "output_type": "execute_result"
    }
   ],
   "source": [
    "df['Job.Description'][1]"
   ]
  },
  {
   "cell_type": "code",
   "execution_count": 103,
   "id": "ca40f5fe-d5aa-4f4f-8698-5cb2f580e591",
   "metadata": {},
   "outputs": [
    {
     "data": {
      "text/plain": [
       "(1000, 2)"
      ]
     },
     "execution_count": 103,
     "metadata": {},
     "output_type": "execute_result"
    }
   ],
   "source": [
    "# to focus on lesser data that is 1000 jobs\n",
    "#optional step\n",
    "df =df.sample(n=1000,random_state=42)\n",
    "df.shape"
   ]
  },
  {
   "cell_type": "code",
   "execution_count": null,
   "id": "254ca95a-4fc2-4732-8b3b-84ca855a1ba1",
   "metadata": {},
   "outputs": [],
   "source": [
    "#DATA CLEANING\n",
    "#keeping all letters and digits lowercase\n",
    "#stemming\n",
    "#tokenization\n",
    "#removing stopwords\n"
   ]
  },
  {
   "cell_type": "code",
   "execution_count": 113,
   "id": "addd122a-2b78-4317-9a9c-2c42dc02b6d7",
   "metadata": {},
   "outputs": [
    {
     "name": "stderr",
     "output_type": "stream",
     "text": [
      "[nltk_data] Downloading package punkt to\n",
      "[nltk_data]     C:\\Users\\DELL\\AppData\\Roaming\\nltk_data...\n",
      "[nltk_data]   Package punkt is already up-to-date!\n",
      "[nltk_data] Downloading package stopwords to\n",
      "[nltk_data]     C:\\Users\\DELL\\AppData\\Roaming\\nltk_data...\n",
      "[nltk_data]   Package stopwords is already up-to-date!\n"
     ]
    },
    {
     "data": {
      "text/plain": [
       "True"
      ]
     },
     "execution_count": 113,
     "metadata": {},
     "output_type": "execute_result"
    }
   ],
   "source": [
    "import re\n",
    "import nltk\n",
    "from nltk.corpus import stopwords\n",
    "\n",
    "# Download necessary resources if not already done\n",
    "nltk.download('punkt')\n",
    "nltk.download('stopwords')\n"
   ]
  },
  {
   "cell_type": "code",
   "execution_count": 38,
   "id": "a0a0e35c-be62-4945-9a08-d14cc03b86f2",
   "metadata": {},
   "outputs": [],
   "source": [
    "ps=PorterStemmer()"
   ]
  },
  {
   "cell_type": "code",
   "execution_count": 115,
   "id": "ff0d3ec6-152f-4928-a9b3-1ba2ffc80f9b",
   "metadata": {},
   "outputs": [],
   "source": [
    "# defining the cleaning function\n",
    "def cleaning(txt):\n",
    "    cleaned_txt = re.sub(r'[^a-zA-Z0-9\\s]', '', txt)\n",
    "    tokens = nltk.word_tokenize(cleaned_txt.lower())\n",
    "    return tokens\n"
   ]
  },
  {
   "cell_type": "code",
   "execution_count": 119,
   "id": "b7bdcc66-1c01-4381-b374-bf5c07950c93",
   "metadata": {},
   "outputs": [],
   "source": [
    "#tokenizing and removing stopwords\n",
    "def remove_stopwords(tokens):\n",
    "    return [word for word in tokens if word not in stopwords.words('english')]\n"
   ]
  },
  {
   "cell_type": "code",
   "execution_count": 127,
   "id": "b151dbf5-b016-47ca-88c3-bdc7e6e89537",
   "metadata": {},
   "outputs": [
    {
     "name": "stdout",
     "output_type": "stream",
     "text": [
      "['book', '987', 'digits', 'use']\n"
     ]
    }
   ],
   "source": [
    "# example input text\n",
    "text = 'this is my book with 987 digits and \\n\\n\\r &^%) use this'\n",
    "#clean and tokenize the text\n",
    "cleaned_text=cleaning(text)\n",
    "#remove stopwords  from the tokens\n",
    "tokens_without_stopwords=remove_stopwords(cleaned_text)\n",
    "#display the result\n",
    "print(tokens_without_stopwords)"
   ]
  },
  {
   "cell_type": "code",
   "execution_count": 145,
   "id": "305273d7-3b4c-4bc1-a63c-432263fef776",
   "metadata": {},
   "outputs": [
    {
     "name": "stdout",
     "output_type": "stream",
     "text": [
      "                                     Job.Description                 Title  \\\n",
      "0  [looking, for, a, software, engineer, with, ex...  [software, engineer]   \n",
      "1  [data, scientist, needed, for, analyzing, data...     [data, scientist]   \n",
      "2  [project, manager, with, excellent, communicat...    [project, manager]   \n",
      "3  [internship, available, no, experience, requir...              [intern]   \n",
      "\n",
      "       Position  \n",
      "0    [fulltime]  \n",
      "1    [fulltime]  \n",
      "2    [parttime]  \n",
      "3  [internship]  \n"
     ]
    }
   ],
   "source": [
    "\n",
    "#  Creating the DataFrame\n",
    "job_df = pd.DataFrame(data)\n",
    "\n",
    "\n",
    "#  Applying the Cleaning Process\n",
    "job_df['Job.Description'] = job_df['Job.Description'].astype(str).apply(lambda x: cleaning(x))\n",
    "job_df['Title'] = job_df['Title'].astype(str).apply(lambda x: cleaning(x))\n",
    "job_df['Position'] = job_df['Position'].astype(str).apply(lambda x: cleaning(x))\n",
    "\n",
    "# Display the cleaned DataFrame\n",
    "print(job_df)\n"
   ]
  },
  {
   "cell_type": "code",
   "execution_count": 158,
   "id": "7b03e5f0-487b-417b-a796-5b1bf819df0b",
   "metadata": {},
   "outputs": [],
   "source": [
    "job_df['clean_text'] = job_df['Job.Description'].fillna(\"\").astype(str) + \" \" + job_df['Title'].fillna(\"\").astype(str) + \" \" + job_df['Position'].fillna(\"\").astype(str)\n"
   ]
  },
  {
   "cell_type": "code",
   "execution_count": null,
   "id": "cceb68cb-6ecf-48ed-9faa-1f92d25440ca",
   "metadata": {},
   "outputs": [],
   "source": [
    "#VECTORIZATION"
   ]
  },
  {
   "cell_type": "code",
   "execution_count": 162,
   "id": "027c7dbf-9af3-4fb9-9e33-1c20ee068826",
   "metadata": {},
   "outputs": [],
   "source": [
    "# Create a new column by concatenating Title and Job.Description with ' -- ' as a separator\n",
    "df['new_col'] = df['Title'].fillna('') + ' -- ' + df['Job.Description'].fillna('')\n"
   ]
  },
  {
   "cell_type": "code",
   "execution_count": 164,
   "id": "0ab6c20d-0091-4748-9958-a11da66c07d1",
   "metadata": {},
   "outputs": [
    {
     "data": {
      "text/html": [
       "<div>\n",
       "<style scoped>\n",
       "    .dataframe tbody tr th:only-of-type {\n",
       "        vertical-align: middle;\n",
       "    }\n",
       "\n",
       "    .dataframe tbody tr th {\n",
       "        vertical-align: top;\n",
       "    }\n",
       "\n",
       "    .dataframe thead th {\n",
       "        text-align: right;\n",
       "    }\n",
       "</style>\n",
       "<table border=\"1\" class=\"dataframe\">\n",
       "  <thead>\n",
       "    <tr style=\"text-align: right;\">\n",
       "      <th></th>\n",
       "      <th>Title</th>\n",
       "      <th>Job.Description</th>\n",
       "      <th>new_col</th>\n",
       "    </tr>\n",
       "  </thead>\n",
       "  <tbody>\n",
       "    <tr>\n",
       "      <th>14108</th>\n",
       "      <td>Business Analyst - Asset Manager @ Accountemps</td>\n",
       "      <td>Ref ID:03920-107521Classification:Fin. Systems...</td>\n",
       "      <td>Business Analyst - Asset Manager @ Accountemps...</td>\n",
       "    </tr>\n",
       "    <tr>\n",
       "      <th>881</th>\n",
       "      <td>- Retail Cosmetics Sales - Counter Manager Ben...</td>\n",
       "      <td>Overview:\\r\\nWith a role as a Counter Manager ...</td>\n",
       "      <td>- Retail Cosmetics Sales - Counter Manager Ben...</td>\n",
       "    </tr>\n",
       "    <tr>\n",
       "      <th>76953</th>\n",
       "      <td>Administrative Assistant @ OfficeTeam</td>\n",
       "      <td>Ref ID: 03080-111350Classification: Secretary/...</td>\n",
       "      <td>Administrative Assistant @ OfficeTeam -- Ref I...</td>\n",
       "    </tr>\n",
       "  </tbody>\n",
       "</table>\n",
       "</div>"
      ],
      "text/plain": [
       "                                                   Title  \\\n",
       "14108     Business Analyst - Asset Manager @ Accountemps   \n",
       "881    - Retail Cosmetics Sales - Counter Manager Ben...   \n",
       "76953              Administrative Assistant @ OfficeTeam   \n",
       "\n",
       "                                         Job.Description  \\\n",
       "14108  Ref ID:03920-107521Classification:Fin. Systems...   \n",
       "881    Overview:\\r\\nWith a role as a Counter Manager ...   \n",
       "76953  Ref ID: 03080-111350Classification: Secretary/...   \n",
       "\n",
       "                                                 new_col  \n",
       "14108  Business Analyst - Asset Manager @ Accountemps...  \n",
       "881    - Retail Cosmetics Sales - Counter Manager Ben...  \n",
       "76953  Administrative Assistant @ OfficeTeam -- Ref I...  "
      ]
     },
     "execution_count": 164,
     "metadata": {},
     "output_type": "execute_result"
    }
   ],
   "source": [
    "df.head(3)"
   ]
  },
  {
   "cell_type": "code",
   "execution_count": 178,
   "id": "618cff0d-0a4e-4f69-83dc-c8f8841f2cea",
   "metadata": {},
   "outputs": [
    {
     "name": "stdout",
     "output_type": "stream",
     "text": [
      "shape of TF-IDF matrix (4, 25)\n",
      "[[0.         0.         0.         0.         0.57158758 0.\n",
      "  0.         0.22532311 0.22532311 0.         0.         0.28579379\n",
      "  0.         0.28579379 0.         0.         0.         0.\n",
      "  0.28579379 0.         0.         0.         0.57158758 0.\n",
      "  0.        ]\n",
      " [0.23258097 0.         0.         0.6977429  0.         0.\n",
      "  0.         0.         0.18336951 0.         0.         0.\n",
      "  0.         0.         0.         0.18336951 0.         0.\n",
      "  0.         0.18336951 0.46516193 0.18336951 0.         0.23258097\n",
      "  0.23258097]\n",
      " [0.         0.         0.28579379 0.         0.         0.\n",
      "  0.28579379 0.         0.         0.         0.         0.\n",
      "  0.         0.         0.57158758 0.22532311 0.28579379 0.57158758\n",
      "  0.         0.         0.         0.22532311 0.         0.\n",
      "  0.        ]\n",
      " [0.         0.32891916 0.         0.         0.         0.32891916\n",
      "  0.         0.25932364 0.         0.32891916 0.65783832 0.\n",
      "  0.32891916 0.         0.         0.         0.         0.\n",
      "  0.         0.25932364 0.         0.         0.         0.\n",
      "  0.        ]]\n"
     ]
    }
   ],
   "source": [
    "from sklearn.feature_extraction.text import TfidfVectorizer\n",
    "tfidf = TfidfVectorizer()\n",
    "\n",
    "# to viewthe shape  of the resulting matrix\n",
    "print(\"shape of TF-IDF matrix\" , matrix.shape)\n",
    "# If you want to see the dense representation\n",
    "dense_matrix=matrix.todense()\n",
    "print(dense_matrix)\n"
   ]
  },
  {
   "cell_type": "code",
   "execution_count": 182,
   "id": "b87edcae-e026-473b-a26c-e6b0deac1478",
   "metadata": {},
   "outputs": [
    {
     "name": "stdout",
     "output_type": "stream",
     "text": [
      "Shape of Cosine Similarity Matrix: (4, 4)\n",
      "[[1.         0.04131739 0.         0.05843161]\n",
      " [0.04131739 1.         0.08263477 0.04755205]\n",
      " [0.         0.08263477 1.         0.        ]\n",
      " [0.05843161 0.04755205 0.         1.        ]]\n"
     ]
    }
   ],
   "source": [
    "# Cell: Importing the necessary library\n",
    "from sklearn.feature_extraction.text import TfidfVectorizer\n",
    "from sklearn.metrics.pairwise import cosine_similarity\n",
    "\n",
    "# Create the TfidfVectorizer instance with English stop words\n",
    "tfidf = TfidfVectorizer(stop_words='english')\n",
    "\n",
    "# Fit and transform the clean_text column to create the TF-IDF matrix\n",
    "matrix = tfidf.fit_transform(job_df['clean_text'])\n",
    "\n",
    "# Compute the cosine similarity matrix\n",
    "similarity = cosine_similarity(matrix)\n",
    "\n",
    "# Display the shape of the similarity matrix\n",
    "print(\"Shape of Cosine Similarity Matrix:\", similarity.shape)\n",
    "\n",
    "# If you want to view the cosine similarity matrix\n",
    "print(similarity)\n"
   ]
  },
  {
   "cell_type": "code",
   "execution_count": 184,
   "id": "611bfab0-48f0-485d-b455-ae1cf5e180fd",
   "metadata": {},
   "outputs": [
    {
     "data": {
      "text/plain": [
       "array([1.        , 0.04131739, 0.        , 0.05843161])"
      ]
     },
     "execution_count": 184,
     "metadata": {},
     "output_type": "execute_result"
    }
   ],
   "source": [
    "similarity[0]"
   ]
  },
  {
   "cell_type": "code",
   "execution_count": 186,
   "id": "a25c1f52-1b57-4cbd-b838-5fde94c961b1",
   "metadata": {},
   "outputs": [],
   "source": [
    "#Recommendation system\n",
    "def recommend(title):\n",
    "\n",
    "        indx = job_df[job_df['Title'] == title].index[0]\n",
    "        indx = job_df.index.get_loc(indx)\n",
    "        distances = sorted(list(enumerate(similarity[indx])), key=lambda x: x[1], reverse=True)[1:20]\n",
    "\n",
    "        jobs = []\n",
    "        for i in distances:\n",
    "            jobs.append(job_df.iloc[i[0]].Title)\n",
    "        return jobs\n",
    "        "
   ]
  },
  {
   "cell_type": "code",
   "execution_count": 194,
   "id": "8f9caa8c-2dd6-4c4a-a784-099d7e5d2949",
   "metadata": {},
   "outputs": [],
   "source": [
    "# Recommendation system with error handling\n",
    "def recommend(title):\n",
    "    # Check if the title exists in the DataFrame\n",
    "    if title not in job_df['Title'].values:\n",
    "        return f\"Title '{title}' not found in job listings.\"\n",
    "\n",
    "    # Get the index of the job title\n",
    "    indx = job_df[job_df['Title'] == title].index[0]\n",
    "    \n",
    "    # Get the location of the index in the similarity matrix\n",
    "    indx = job_df.index.get_loc(indx)\n",
    "    \n",
    "    # Calculate the distances and sort them\n",
    "    distances = sorted(list(enumerate(similarity[indx])), key=lambda x: x[1], reverse=True)[1:20]\n",
    "\n",
    "    # Gather recommended job titles\n",
    "    jobs = []\n",
    "    for i in distances:\n",
    "        jobs.append(job_df.iloc[i[0]].Title)\n",
    "\n",
    "    return jobs\n"
   ]
  },
  {
   "cell_type": "code",
   "execution_count": 196,
   "id": "2dfc3638-6457-44d5-983f-3348b2fc7b19",
   "metadata": {},
   "outputs": [
    {
     "name": "stdout",
     "output_type": "stream",
     "text": [
      "Title 'Software Engineer' not found in job listings.\n",
      "Title 'site director knowledg univers' not found in job listings.\n"
     ]
    }
   ],
   "source": [
    "# Call the recommend function with an existing title\n",
    "print(recommend('Software Engineer'))  # Example of an existing title\n",
    "\n",
    "# Call the recommend function with a title that may not exist\n",
    "print(recommend('site director knowledg univers'))  # Should give a not found message if it doesn't exist\n"
   ]
  },
  {
   "cell_type": "code",
   "execution_count": 202,
   "id": "f2b4ca96-08c7-4e08-9499-845dd85c5bed",
   "metadata": {},
   "outputs": [
    {
     "name": "stdout",
     "output_type": "stream",
     "text": [
      "DataFrame and similarity matrix saved successfully.\n"
     ]
    }
   ],
   "source": [
    "import pandas as pd\n",
    "import numpy as np\n",
    "import pickle\n",
    "\n",
    "# Ensure job_df and similarity exist and are valid\n",
    "try:\n",
    "    # Check if job_df is a DataFrame and similarity is a numpy array or similar\n",
    "    if isinstance(job_df, pd.DataFrame) and isinstance(similarity, (np.ndarray, np.generic)):\n",
    "        # Convert similarity to dense format if it's a sparse matrix\n",
    "        if hasattr(similarity, 'toarray'):\n",
    "            similarity = similarity.toarray()\n",
    "\n",
    "        # Saving the DataFrame\n",
    "        with open('df.pkl', 'wb') as df_file:\n",
    "            pickle.dump(job_df, df_file)\n",
    "\n",
    "        # Saving the similarity matrix\n",
    "        with open('similarity.pkl', 'wb') as sim_file:\n",
    "            pickle.dump(similarity, sim_file)\n",
    "\n",
    "        print(\"DataFrame and similarity matrix saved successfully.\")\n",
    "    else:\n",
    "        print(\"Error: job_df must be a DataFrame and similarity must be a numpy array.\")\n",
    "except Exception as e:\n",
    "    print(f\"An error occurred: {e}\")\n"
   ]
  },
  {
   "cell_type": "code",
   "execution_count": 204,
   "id": "ca653d66-adb3-4e35-885f-e37376cf51dc",
   "metadata": {},
   "outputs": [
    {
     "name": "stdout",
     "output_type": "stream",
     "text": [
      "2.2.2\n"
     ]
    }
   ],
   "source": [
    "import pandas as pd\n",
    "print(pd.__version__)"
   ]
  },
  {
   "cell_type": "code",
   "execution_count": 206,
   "id": "01ced1ed-0917-4621-8124-b11eb01cbc87",
   "metadata": {},
   "outputs": [
    {
     "name": "stderr",
     "output_type": "stream",
     "text": [
      "2024-10-23 00:18:05.405 \n",
      "  \u001b[33m\u001b[1mWarning:\u001b[0m to view this Streamlit app on a browser, run it with the following\n",
      "  command:\n",
      "\n",
      "    streamlit run E:\\anaconda\\New folder\\Lib\\site-packages\\ipykernel_launcher.py [ARGUMENTS]\n"
     ]
    }
   ],
   "source": [
    "import streamlit as st\n",
    "import pandas as pd\n",
    "import pickle\n",
    "\n",
    "# Load the data\n",
    "df = pickle.load(open('df.pkl', 'rb'))\n",
    "similarity = pickle.load(open('similarity.pkl', 'rb'))\n",
    "\n",
    "# Ensure no NaN values and the correct data type\n",
    "df['Title'] = df['Title'].astype(str)\n",
    "df = df.dropna(subset=['Title'])\n",
    "\n",
    "def recommendation(title):\n",
    "    # Check if the title exists in the DataFrame\n",
    "    if title not in df['Title'].values:\n",
    "        st.error(\"The selected job title does not exist in the dataset.\")\n",
    "        return []\n",
    "    \n",
    "    idx = df[df['Title'] == title].index[0]\n",
    "    idx = df.index.get_loc(idx)\n",
    "    distances = sorted(list(enumerate(similarity[idx])), reverse=True, key=lambda x: x[1])[1:20]\n",
    "\n",
    "    jobs = []\n",
    "    for i in distances:\n",
    "        jobs.append(df.iloc[i[0]].Title)\n",
    "\n",
    "    return jobs\n",
    "\n",
    "# Web app\n",
    "st.title('Job Recommendation System')\n",
    "title = st.selectbox('Search job', df['Title'])\n",
    "\n",
    "jobs = recommendation(title)\n",
    "\n",
    "if jobs:\n",
    "    st.write(jobs)\n"
   ]
  },
  {
   "cell_type": "code",
   "execution_count": null,
   "id": "23d6bf24-d3ae-439c-99e9-38740a339cbb",
   "metadata": {},
   "outputs": [],
   "source": []
  }
 ],
 "metadata": {
  "kernelspec": {
   "display_name": "Python 3 (ipykernel)",
   "language": "python",
   "name": "python3"
  },
  "language_info": {
   "codemirror_mode": {
    "name": "ipython",
    "version": 3
   },
   "file_extension": ".py",
   "mimetype": "text/x-python",
   "name": "python",
   "nbconvert_exporter": "python",
   "pygments_lexer": "ipython3",
   "version": "3.12.4"
  }
 },
 "nbformat": 4,
 "nbformat_minor": 5
}
